{
 "cells": [
  {
   "cell_type": "code",
   "execution_count": 3,
   "id": "2b397221",
   "metadata": {},
   "outputs": [
    {
     "name": "stdout",
     "output_type": "stream",
     "text": [
      "[10 20 30 40]\n"
     ]
    },
    {
     "data": {
      "text/plain": [
       "numpy.ndarray"
      ]
     },
     "execution_count": 3,
     "metadata": {},
     "output_type": "execute_result"
    }
   ],
   "source": [
    "import numpy as np\n",
    "list_=[10,20,30,40]\n",
    "np_array=np.asarray(list_)\n",
    "print(np_array)\n",
    "type(np_array)"
   ]
  },
  {
   "cell_type": "code",
   "execution_count": 9,
   "id": "7bafdff5",
   "metadata": {},
   "outputs": [
    {
     "name": "stdout",
     "output_type": "stream",
     "text": [
      "[[9 9 9]\n",
      " [3 2 9]\n",
      " [9 0 1]]\n",
      "[[5 7 9]\n",
      " [6 6 6]\n",
      " [9 7 9]]\n",
      "[[45 63 81]\n",
      " [18 12 54]\n",
      " [81  0  9]]\n"
     ]
    }
   ],
   "source": [
    "a=np.random.randint(0,10,(3,3))\n",
    "b=np.random.randint(5,10,(3,3))\n",
    "print(a)\n",
    "print(b)\n",
    "print(a*b)\n"
   ]
  },
  {
   "cell_type": "code",
   "execution_count": 10,
   "id": "f5e080ba",
   "metadata": {},
   "outputs": [
    {
     "name": "stdout",
     "output_type": "stream",
     "text": [
      "[[14 16 18]\n",
      " [ 9  8 15]\n",
      " [18  7 10]]\n",
      "[[ 4  2  0]\n",
      " [-3 -4  3]\n",
      " [ 0 -7 -8]]\n",
      "[[45 63 81]\n",
      " [18 12 54]\n",
      " [81  0  9]]\n",
      "[[1.8        1.28571429 1.        ]\n",
      " [0.5        0.33333333 1.5       ]\n",
      " [1.         0.         0.11111111]]\n"
     ]
    }
   ],
   "source": [
    "print(np.add(a,b))\n",
    "print(np.subtract(a,b))\n",
    "print(np.multiply(a,b))\n",
    "print(np.divide(a,b))"
   ]
  },
  {
   "cell_type": "code",
   "execution_count": 13,
   "id": "4bca472b",
   "metadata": {},
   "outputs": [
    {
     "name": "stdout",
     "output_type": "stream",
     "text": [
      "[[6 6]\n",
      " [5 9]\n",
      " [5 7]]\n",
      "(3, 2)\n"
     ]
    }
   ],
   "source": [
    "a=np.random.randint(5,10,(2,3))\n",
    "b=a.reshape(3,2)\n",
    "print(b)\n",
    "print(b.shape)"
   ]
  }
 ],
 "metadata": {
  "kernelspec": {
   "display_name": "Python 3",
   "language": "python",
   "name": "python3"
  },
  "language_info": {
   "codemirror_mode": {
    "name": "ipython",
    "version": 3
   },
   "file_extension": ".py",
   "mimetype": "text/x-python",
   "name": "python",
   "nbconvert_exporter": "python",
   "pygments_lexer": "ipython3",
   "version": "3.8.8"
  }
 },
 "nbformat": 4,
 "nbformat_minor": 5
}
