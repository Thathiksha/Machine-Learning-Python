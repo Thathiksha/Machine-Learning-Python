{
 "cells": [
  {
   "cell_type": "code",
   "execution_count": 1,
   "id": "4b364f7a",
   "metadata": {},
   "outputs": [
    {
     "name": "stdout",
     "output_type": "stream",
     "text": [
      "The type of a <class 'int'>\n",
      "The type of b <class 'float'>\n",
      "The type of c <class 'complex'>\n"
     ]
    }
   ],
   "source": [
    "a=5\n",
    "b=1.5\n",
    "c=1+3j\n",
    "print(\"The type of a\",type(a))\n",
    "print(\"The type of b\",type(b))\n",
    "print(\"The type of c\",type(c))"
   ]
  },
  {
   "cell_type": "code",
   "execution_count": 2,
   "id": "30abc82a",
   "metadata": {},
   "outputs": [
    {
     "name": "stdout",
     "output_type": "stream",
     "text": [
      "c is complex number True\n"
     ]
    }
   ],
   "source": [
    "c=3+5j\n",
    "print(\"c is complex number\",isinstance(3+5j,complex))"
   ]
  },
  {
   "cell_type": "code",
   "execution_count": 3,
   "id": "c99c4291",
   "metadata": {},
   "outputs": [
    {
     "name": "stdout",
     "output_type": "stream",
     "text": [
      "8.5\n"
     ]
    }
   ],
   "source": [
    "a=5\n",
    "b=3.5\n",
    "c=a+b\n",
    "print(c)"
   ]
  },
  {
   "cell_type": "code",
   "execution_count": 4,
   "id": "7af14cc5",
   "metadata": {},
   "outputs": [
    {
     "name": "stdout",
     "output_type": "stream",
     "text": [
      "b is float False\n"
     ]
    }
   ],
   "source": [
    "b=5\n",
    "print(\"b is float\",isinstance(5,float))"
   ]
  },
  {
   "cell_type": "code",
   "execution_count": 5,
   "id": "dd54e152",
   "metadata": {},
   "outputs": [
    {
     "name": "stdout",
     "output_type": "stream",
     "text": [
      "9.0\n"
     ]
    }
   ],
   "source": [
    "a=5.5\n",
    "b=3.5\n",
    "c=a+b\n",
    "print(c)"
   ]
  },
  {
   "cell_type": "code",
   "execution_count": 6,
   "id": "8edf8300",
   "metadata": {},
   "outputs": [
    {
     "name": "stdout",
     "output_type": "stream",
     "text": [
      "he\n",
      "o\n",
      "hello pythonlearnershello pythonlearners\n",
      "hello pythonlearnershow are you\n"
     ]
    }
   ],
   "source": [
    "str1='hello pythonlearners'\n",
    "str2='how are you'\n",
    "print(str1[0:2])\n",
    "print(str1[4])\n",
    "print(str1*2)\n",
    "print(str1+str2)"
   ]
  },
  {
   "cell_type": "code",
   "execution_count": 7,
   "id": "81805782",
   "metadata": {},
   "outputs": [
    {
     "name": "stdout",
     "output_type": "stream",
     "text": [
      "helloro\n"
     ]
    }
   ],
   "source": [
    "str1='hello'\n",
    "str2=str1[0:2]\n",
    "str3='ro'\n",
    "print(str1+str3)"
   ]
  },
  {
   "cell_type": "code",
   "execution_count": 8,
   "id": "2287801c",
   "metadata": {},
   "outputs": [
    {
     "name": "stdout",
     "output_type": "stream",
     "text": [
      "hero\n"
     ]
    }
   ],
   "source": [
    "str1='hello'\n",
    "str2=str1[0:2]\n",
    "str3='ro'\n",
    "print(str2+str3)"
   ]
  },
  {
   "cell_type": "code",
   "execution_count": 9,
   "id": "2868912c",
   "metadata": {},
   "outputs": [
    {
     "name": "stdout",
     "output_type": "stream",
     "text": [
      "[2]\n"
     ]
    }
   ],
   "source": [
    "list1=[1,\"hi\",\"python\",2]\n",
    "print(list1[3:])"
   ]
  },
  {
   "cell_type": "code",
   "execution_count": 12,
   "id": "16dc0e60",
   "metadata": {},
   "outputs": [
    {
     "name": "stdout",
     "output_type": "stream",
     "text": [
      "[1, 'hi', 2, 'python', 3, 'hello', 4, 'world']\n"
     ]
    }
   ],
   "source": [
    "list1=[1,\"hi\",2,\"python\"]\n",
    "list2=[3,\"hello\",4,\"world\"]\n",
    "print(list1+list2)"
   ]
  },
  {
   "cell_type": "code",
   "execution_count": 13,
   "id": "b06965dc",
   "metadata": {},
   "outputs": [
    {
     "name": "stdout",
     "output_type": "stream",
     "text": [
      "('hi', 2, 'hello', 'hi', 2, 'hello', 'hi', 2, 'hello')\n"
     ]
    }
   ],
   "source": [
    "tup=(\"hi\",2,\"hello\")\n",
    "print(tup*3)"
   ]
  },
  {
   "cell_type": "code",
   "execution_count": 14,
   "id": "90f98156",
   "metadata": {},
   "outputs": [
    {
     "ename": "TypeError",
     "evalue": "'tuple' object is not callable",
     "output_type": "error",
     "traceback": [
      "\u001b[1;31m---------------------------------------------------------------------------\u001b[0m",
      "\u001b[1;31mTypeError\u001b[0m                                 Traceback (most recent call last)",
      "\u001b[1;32m<ipython-input-14-9439930ae3d4>\u001b[0m in \u001b[0;36m<module>\u001b[1;34m\u001b[0m\n\u001b[1;32m----> 1\u001b[1;33m \u001b[0mtup\u001b[0m\u001b[1;33m(\u001b[0m\u001b[1;34m\"hi\"\u001b[0m\u001b[1;33m,\u001b[0m\u001b[1;36m2\u001b[0m\u001b[1;33m,\u001b[0m\u001b[1;34m\"hello\"\u001b[0m\u001b[1;33m)\u001b[0m\u001b[1;33m\u001b[0m\u001b[1;33m\u001b[0m\u001b[0m\n\u001b[0m\u001b[0;32m      2\u001b[0m \u001b[0mtup\u001b[0m\u001b[1;33m[\u001b[0m\u001b[1;36m2\u001b[0m\u001b[1;33m]\u001b[0m\u001b[1;33m=\u001b[0m\u001b[1;34m\"hi\"\u001b[0m\u001b[1;33m\u001b[0m\u001b[1;33m\u001b[0m\u001b[0m\n",
      "\u001b[1;31mTypeError\u001b[0m: 'tuple' object is not callable"
     ]
    }
   ],
   "source": [
    "tup(\"hi\",2,\"hello\")\n",
    "tup[2]=\"hi\""
   ]
  },
  {
   "cell_type": "code",
   "execution_count": 15,
   "id": "dc051e19",
   "metadata": {},
   "outputs": [
    {
     "name": "stdout",
     "output_type": "stream",
     "text": [
      "list1\n"
     ]
    }
   ],
   "source": [
    "list1=[1,\"hi\",\"python\",2]\n",
    "list1.append(5)\n",
    "print(\"list1\")"
   ]
  },
  {
   "cell_type": "code",
   "execution_count": 16,
   "id": "32c5f8c0",
   "metadata": {},
   "outputs": [
    {
     "name": "stdout",
     "output_type": "stream",
     "text": [
      "[1, 'hi', 'python', 2, 5]\n"
     ]
    }
   ],
   "source": [
    "list1=[1,\"hi\",\"python\",2]\n",
    "list1.append(5)\n",
    "print(list1)"
   ]
  },
  {
   "cell_type": "code",
   "execution_count": 17,
   "id": "cca42c9e",
   "metadata": {},
   "outputs": [
    {
     "name": "stdout",
     "output_type": "stream",
     "text": [
      "('hi', 2, 'hello', 'hi', 2, 'hello')\n"
     ]
    }
   ],
   "source": [
    "tup=(\"hi\",2,\"hello\")\n",
    "print(tup+tup)"
   ]
  },
  {
   "cell_type": "code",
   "execution_count": 20,
   "id": "b0ba29e0",
   "metadata": {},
   "outputs": [
    {
     "name": "stdout",
     "output_type": "stream",
     "text": [
      "[(1, 'a'), (2, 'b'), (3, 'c'), (4, 'd'), (5, 'e')]\n"
     ]
    }
   ],
   "source": [
    "rollnumber=[1,2,3,4,5]\n",
    "Names=[\"a\",\"b\",\"c\",\"d\",\"e\"]\n",
    "data=list(zip(rollnumber,Names))\n",
    "print(data)"
   ]
  },
  {
   "cell_type": "code",
   "execution_count": 21,
   "id": "c70b489f",
   "metadata": {},
   "outputs": [
    {
     "name": "stdout",
     "output_type": "stream",
     "text": [
      "[(1, 'a'), (2, 'b'), (3, 'c'), (4, 'd')]\n"
     ]
    }
   ],
   "source": [
    "rollnumber=[1,2,3,4]\n",
    "Names=[\"a\",\"b\",\"c\",\"d\",\"e\"]\n",
    "data=list(zip(rollnumber,Names))\n",
    "print(data)"
   ]
  },
  {
   "cell_type": "code",
   "execution_count": 22,
   "id": "e06d3524",
   "metadata": {},
   "outputs": [
    {
     "name": "stdout",
     "output_type": "stream",
     "text": [
      "dict_keys([101, 102, 103, 104])\n",
      "dict_values(['Jimmy', 'Alexa', 'John', 'Mike'])\n"
     ]
    }
   ],
   "source": [
    "d={101:\"Jimmy\",102:\"Alexa\",103:\"John\",104:\"Mike\"}\n",
    "print(d.keys())\n",
    "print(d.values())"
   ]
  },
  {
   "cell_type": "code",
   "execution_count": 23,
   "id": "1aa480ca",
   "metadata": {},
   "outputs": [
    {
     "name": "stdout",
     "output_type": "stream",
     "text": [
      "set()\n"
     ]
    }
   ],
   "source": [
    "set1=set()\n",
    "print(set1)"
   ]
  },
  {
   "cell_type": "code",
   "execution_count": 24,
   "id": "c366a0e8",
   "metadata": {},
   "outputs": [
    {
     "name": "stdout",
     "output_type": "stream",
     "text": [
      "{2, 3, 'James', 'Python'}\n"
     ]
    }
   ],
   "source": [
    "set1={\"James\",2,3,\"Python\"}\n",
    "print(set1)"
   ]
  },
  {
   "cell_type": "code",
   "execution_count": null,
   "id": "8bf3ea94",
   "metadata": {},
   "outputs": [],
   "source": []
  }
 ],
 "metadata": {
  "kernelspec": {
   "display_name": "Python 3",
   "language": "python",
   "name": "python3"
  },
  "language_info": {
   "codemirror_mode": {
    "name": "ipython",
    "version": 3
   },
   "file_extension": ".py",
   "mimetype": "text/x-python",
   "name": "python",
   "nbconvert_exporter": "python",
   "pygments_lexer": "ipython3",
   "version": "3.8.8"
  }
 },
 "nbformat": 4,
 "nbformat_minor": 5
}
