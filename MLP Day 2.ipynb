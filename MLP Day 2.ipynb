{
 "cells": [
  {
   "cell_type": "code",
   "execution_count": 18,
   "id": "625c705e",
   "metadata": {},
   "outputs": [
    {
     "name": "stdout",
     "output_type": "stream",
     "text": [
      "Enter you Age9\n",
      "You are a Children\n"
     ]
    }
   ],
   "source": [
    "int(input(\"Enter you Age\"))\n",
    "if Age>=18:\n",
    "    print(\"You can Vote\")\n",
    "elif Age<10:\n",
    "    print(\"You are a Children\")\n",
    "else: \n",
    "    print(\"You cannot Vote\")"
   ]
  },
  {
   "cell_type": "code",
   "execution_count": 12,
   "id": "a2bafcdb",
   "metadata": {},
   "outputs": [
    {
     "name": "stdout",
     "output_type": "stream",
     "text": [
      "The sum of squares is: 30\n"
     ]
    }
   ],
   "source": [
    "numbers=[1,2,3,4]\n",
    "sum_=0\n",
    "for num in numbers:\n",
    "    sum_=sum_+num**2\n",
    "print(\"The sum of squares is:\",sum_)"
   ]
  },
  {
   "cell_type": "code",
   "execution_count": 14,
   "id": "fd8e73c7",
   "metadata": {},
   "outputs": [
    {
     "name": "stdout",
     "output_type": "stream",
     "text": [
      "T\n",
      "h\n",
      "a\n",
      "t\n",
      "h\n",
      "i\n",
      "k\n",
      "s\n",
      "h\n",
      "a\n"
     ]
    }
   ],
   "source": [
    "s=\"Thathiksha\"\n",
    "for i in s:\n",
    "    print(i)"
   ]
  },
  {
   "cell_type": "code",
   "execution_count": 19,
   "id": "3fb3a53c",
   "metadata": {},
   "outputs": [
    {
     "name": "stdout",
     "output_type": "stream",
     "text": [
      "1 2 3 4 5 7 8 9 10 "
     ]
    }
   ],
   "source": [
    "for i in range(1,11):\n",
    "    if i==6:\n",
    "        continue\n",
    "    else:\n",
    "        print(i,end=\" \")"
   ]
  },
  {
   "cell_type": "code",
   "execution_count": 1,
   "id": "77ee454c",
   "metadata": {},
   "outputs": [
    {
     "name": "stdout",
     "output_type": "stream",
     "text": [
      "Squares of the list is: [1764, 2704, 169]\n"
     ]
    }
   ],
   "source": [
    "def square(my_list):\n",
    "    squares=[]\n",
    "    for i in my_list:\n",
    "        squares.append(i**2)\n",
    "    return squares\n",
    "list_=[42,52,13];\n",
    "result=square(list_)\n",
    "print(\"Squares of the list is:\",result)"
   ]
  },
  {
   "cell_type": "code",
   "execution_count": null,
   "id": "b2e8a247",
   "metadata": {},
   "outputs": [],
   "source": []
  }
 ],
 "metadata": {
  "kernelspec": {
   "display_name": "Python 3",
   "language": "python",
   "name": "python3"
  },
  "language_info": {
   "codemirror_mode": {
    "name": "ipython",
    "version": 3
   },
   "file_extension": ".py",
   "mimetype": "text/x-python",
   "name": "python",
   "nbconvert_exporter": "python",
   "pygments_lexer": "ipython3",
   "version": "3.8.8"
  }
 },
 "nbformat": 4,
 "nbformat_minor": 5
}
