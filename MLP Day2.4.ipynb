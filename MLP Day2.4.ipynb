{
 "cells": [
  {
   "cell_type": "code",
   "execution_count": 1,
   "id": "4de6790d",
   "metadata": {},
   "outputs": [
    {
     "name": "stdout",
     "output_type": "stream",
     "text": [
      "Value of the function is: 15\n",
      "Value of the function is: 35\n"
     ]
    }
   ],
   "source": [
    "lambda_=lambda argument1,argument2:argument1+argument2;\n",
    "print(\"Value of the function is:\",lambda_(10,5))\n",
    "print(\"Value of the function is:\",lambda_(15,20))\n"
   ]
  },
  {
   "cell_type": "code",
   "execution_count": 2,
   "id": "1181af55",
   "metadata": {},
   "outputs": [
    {
     "name": "stdout",
     "output_type": "stream",
     "text": [
      "Value of the function is: 50\n",
      "Value of the function is: 300\n"
     ]
    }
   ],
   "source": [
    "lambda_=lambda argument1,argument2:argument1*argument2;\n",
    "print(\"Value of the function is:\",lambda_(10,5))\n",
    "print(\"Value of the function is:\",lambda_(15,20))\n"
   ]
  },
  {
   "cell_type": "code",
   "execution_count": 4,
   "id": "184de1eb",
   "metadata": {},
   "outputs": [
    {
     "name": "stdout",
     "output_type": "stream",
     "text": [
      "0.0\n"
     ]
    }
   ],
   "source": [
    "import numpy as np\n",
    "from time import process_time\n",
    "python_list=[i for i in range(10000)]\n",
    "start_time=process_time()\n",
    "python_list=[i+5 for i in python_list]\n",
    "end_time=process_time()\n",
    "print(end_time-start_time)"
   ]
  },
  {
   "cell_type": "code",
   "execution_count": 7,
   "id": "9091410f",
   "metadata": {
    "scrolled": true
   },
   "outputs": [
    {
     "name": "stdout",
     "output_type": "stream",
     "text": [
      "0.0\n"
     ]
    }
   ],
   "source": [
    "np_array=np.array([i for i in range(10000)])\n",
    "start_time=process_time()\n",
    "np_array +=5\n",
    "end_time=process_time()\n",
    "print(end_time-start_time)"
   ]
  },
  {
   "cell_type": "code",
   "execution_count": 9,
   "id": "b1782394",
   "metadata": {},
   "outputs": [
    {
     "name": "stdout",
     "output_type": "stream",
     "text": [
      "<class 'numpy.ndarray'>\n"
     ]
    }
   ],
   "source": [
    "print(type(np_array))"
   ]
  },
  {
   "cell_type": "code",
   "execution_count": 10,
   "id": "64a7eb11",
   "metadata": {},
   "outputs": [
    {
     "name": "stdout",
     "output_type": "stream",
     "text": [
      "[1 2 3 4]\n"
     ]
    },
    {
     "data": {
      "text/plain": [
       "(4,)"
      ]
     },
     "execution_count": 10,
     "metadata": {},
     "output_type": "execute_result"
    }
   ],
   "source": [
    "a=np.array([1,2,3,4])\n",
    "print(a)\n",
    "a.shape"
   ]
  },
  {
   "cell_type": "code",
   "execution_count": 13,
   "id": "13089387",
   "metadata": {},
   "outputs": [
    {
     "name": "stdout",
     "output_type": "stream",
     "text": [
      "[[1 2 3 4]\n",
      " [5 6 7 8]]\n",
      "(2, 4)\n",
      "[[1. 2. 3. 4.]\n",
      " [5. 6. 7. 8.]]\n"
     ]
    }
   ],
   "source": [
    "b=np.array([(1,2,3,4),(5,6,7,8)])\n",
    "print(b)\n",
    "print(b.shape)\n",
    "c=np.array(b,dtype=float)\n",
    "print(c)"
   ]
  },
  {
   "cell_type": "code",
   "execution_count": 14,
   "id": "5f834466",
   "metadata": {},
   "outputs": [
    {
     "name": "stdout",
     "output_type": "stream",
     "text": [
      "[[0. 0. 0. 0. 0.]\n",
      " [0. 0. 0. 0. 0.]\n",
      " [0. 0. 0. 0. 0.]\n",
      " [0. 0. 0. 0. 0.]]\n",
      "[[1. 1. 1.]\n",
      " [1. 1. 1.]\n",
      " [1. 1. 1.]]\n"
     ]
    }
   ],
   "source": [
    "x=np.zeros((4,5))\n",
    "print(x)\n",
    "y=np.ones((3,3))\n",
    "print(y)"
   ]
  },
  {
   "cell_type": "code",
   "execution_count": 21,
   "id": "e8e741a0",
   "metadata": {},
   "outputs": [
    {
     "name": "stdout",
     "output_type": "stream",
     "text": [
      "[[5 5 5 5]\n",
      " [5 5 5 5]\n",
      " [5 5 5 5]\n",
      " [5 5 5 5]]\n"
     ]
    }
   ],
   "source": [
    "z=np.full((4,4),5)\n",
    "print(z)"
   ]
  },
  {
   "cell_type": "code",
   "execution_count": 22,
   "id": "881ea54c",
   "metadata": {},
   "outputs": [
    {
     "name": "stdout",
     "output_type": "stream",
     "text": [
      "[[1. 0. 0. 0. 0.]\n",
      " [0. 1. 0. 0. 0.]\n",
      " [0. 0. 1. 0. 0.]\n",
      " [0. 0. 0. 1. 0.]\n",
      " [0. 0. 0. 0. 1.]]\n",
      "[[0.43559122 0.2664722  0.50341533 0.69312765]\n",
      " [0.50831003 0.21408671 0.76655154 0.00665011]\n",
      " [0.93013378 0.81209322 0.3193697  0.45232938]]\n"
     ]
    }
   ],
   "source": [
    "a=np.eye(5)\n",
    "print(a)\n",
    "b=np.random.random((3,4))\n",
    "print(b)"
   ]
  }
 ],
 "metadata": {
  "kernelspec": {
   "display_name": "Python 3",
   "language": "python",
   "name": "python3"
  },
  "language_info": {
   "codemirror_mode": {
    "name": "ipython",
    "version": 3
   },
   "file_extension": ".py",
   "mimetype": "text/x-python",
   "name": "python",
   "nbconvert_exporter": "python",
   "pygments_lexer": "ipython3",
   "version": "3.8.8"
  }
 },
 "nbformat": 4,
 "nbformat_minor": 5
}
